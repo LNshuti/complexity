{
 "cells": [
  {
   "cell_type": "code",
   "execution_count": null,
   "metadata": {},
   "outputs": [],
   "source": [
    "import pandas as pd \n",
    "# Load the country complexity data\n",
    "country_data = pd.read_csv('../data/Country_Complexity_Rankings_1995_2021.csv')\n",
    "\n",
    "country_data.head()"
   ]
  },
  {
   "cell_type": "code",
   "execution_count": null,
   "metadata": {},
   "outputs": [],
   "source": [
    "# Separate ECI and COI rankings\n",
    "eci_data = country_data.filter(regex='Country|ECI Rank.*')\n",
    "coi_data = country_data.filter(regex='Country|COI Rank.*')\n",
    "\n",
    "eci_data.head"
   ]
  },
  {
   "cell_type": "code",
   "execution_count": null,
   "metadata": {},
   "outputs": [],
   "source": [
    "coi_data.head()"
   ]
  },
  {
   "cell_type": "code",
   "execution_count": null,
   "metadata": {},
   "outputs": [],
   "source": [
    "# Transpose the data\n",
    "eci_data = eci_data.set_index('Country').transpose()\n",
    "coi_data = coi_data.set_index('Country').transpose()\n",
    "eci_data.head()"
   ]
  },
  {
   "cell_type": "code",
   "execution_count": null,
   "metadata": {},
   "outputs": [],
   "source": [
    "# Get the top 5 and bottom 5 countries based on their latest ECI and COI rankings\n",
    "top_5_eci = eci_data.columns[eci_data.iloc[-1].nsmallest(5).index]\n",
    "bottom_5_eci = eci_data.columns[eci_data.iloc[-1].nlargest(5).index]\n"
   ]
  },
  {
   "cell_type": "code",
   "execution_count": null,
   "metadata": {},
   "outputs": [],
   "source": [
    "top_5_coi = coi_data.columns[coi_data.iloc[-1].nsmallest(5).index]\n",
    "bottom_5_coi = coi_data.columns[coi_data.iloc[-1].nlargest(5).index]"
   ]
  },
  {
   "cell_type": "code",
   "execution_count": null,
   "metadata": {},
   "outputs": [],
   "source": [
    "# Define a function to plot the rankings over time\n",
    "def plot_rankings_over_time(data, top_5, bottom_5, title):\n",
    "    plt.figure(figsize=(15, 6))\n",
    "\n",
    "    # Plot all countries in gray\n",
    "    for country in data.columns:\n",
    "        plt.plot(data.index, data[country], color='gray', linewidth=1)\n",
    "\n",
    "    # Highlight the top 5 and bottom 5 countries\n",
    "    for country in top_5:\n",
    "        plt.plot(data.index, data[country], linewidth=2, label=country)\n",
    "    for country in bottom_5:\n",
    "        plt.plot(data.index, data[country], linewidth=2, label=country, linestyle='dashed')\n",
    "\n",
    "    plt.title(title)\n",
    "    plt.xlabel('Year')\n",
    "    plt.ylabel('Ranking')\n",
    "    plt.legend()\n",
    "    plt.gca().invert_yaxis()  # Invert y-axis as a lower rank indicates a higher complexity\n",
    "    plt.show()\n",
    "\n",
    "# Plot ECI and COI rankings over time\n",
    "plot_rankings_over_time(eci_data, top_5_eci, bottom_5_eci, 'Economic Complexity Index Rankings Over Time')\n",
    "plot_rankings_over_time(coi_data, top_5_coi, bottom_5_coi, 'Complexity Outlook Index Rankings Over Time')\n"
   ]
  }
 ],
 "metadata": {
  "kernelspec": {
   "display_name": "greai",
   "language": "python",
   "name": "python3"
  },
  "language_info": {
   "codemirror_mode": {
    "name": "ipython",
    "version": 3
   },
   "file_extension": ".py",
   "mimetype": "text/x-python",
   "name": "python",
   "nbconvert_exporter": "python",
   "pygments_lexer": "ipython3",
   "version": "3.10.11"
  },
  "orig_nbformat": 4
 },
 "nbformat": 4,
 "nbformat_minor": 2
}
